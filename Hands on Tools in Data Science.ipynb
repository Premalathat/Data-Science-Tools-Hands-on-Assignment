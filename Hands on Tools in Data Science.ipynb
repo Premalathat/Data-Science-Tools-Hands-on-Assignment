{
 "cells": [
  {
   "cell_type": "markdown",
   "id": "b0412172",
   "metadata": {},
   "source": [
    "# Hands on Tools in Data Science\n",
    "## Hands on Tools in Data Science\n",
    "### hands on Tools in Data Science\n",
    "#### hands on Tools in Data Science\n"
   ]
  },
  {
   "cell_type": "markdown",
   "id": "ef53258d",
   "metadata": {},
   "source": [
    "<h1>hands on tools in Data Science<h1>\n",
    "<h2>hands on tools in Data science<h2>"
   ]
  },
  {
   "cell_type": "markdown",
   "id": "e6ab810f",
   "metadata": {},
   "source": [
    "Data science is a multidisciplinary field that involves extracting insights and knowledge from data. \n",
    "\n",
    "To effectively analyze and manipulate data, data scientists rely on a variety of tools and software. \n",
    "\n",
    "These data science tools facilitate tasks such as data cleaning, exploration, visualization, modeling, and interpretation."
   ]
  },
  {
   "cell_type": "markdown",
   "id": "71abd16a",
   "metadata": {},
   "source": [
    "Data science is a multidisciplinary field that involves extracting insights and knowledge from data.<br>To effectively analyze and manipulate data, data scientists rely on a variety of tools and software.<br>These data science tools facilitate tasks such as data cleaning, exploration, visualization, modeling, and interpretation."
   ]
  },
  {
   "cell_type": "markdown",
   "id": "fc73393d",
   "metadata": {},
   "source": [
    "# Data Science Languages\n",
    "1. Python\n",
    "1. Java\n",
    "1. R\n",
    "1. Julia\n",
    "1. Scala\n",
    "1. SQL"
   ]
  },
  {
   "cell_type": "markdown",
   "id": "a6f54f9d",
   "metadata": {},
   "source": [
    "# Data Science Languages\n",
    "<ul>\n",
    "    <li>PYthon</li>\n",
    "    <li>Java</li>\n",
    "    <li>R</li>\n",
    "    <li>Julia</li>\n",
    "    <li>Scala</li>\n",
    "    <li>SQL</li>\n",
    "</ul>"
   ]
  },
  {
   "cell_type": "markdown",
   "id": "e86efbf1",
   "metadata": {},
   "source": [
    "1. NumPy\n",
    "   * Usage: Numerical and matrix operations.\n",
    "   * Examples: Array creation, mathematical operations, linear algebra, and random number generation.\n",
    "1. Pandas:\n",
    "   * Usage: Data manipulation and analysis of structured data.\n",
    "   * Examples: Reading and writing data, data cleaning, filtering, grouping, and pivot tables.\n",
    "1. Matplotlib:\n",
    "   * Usage: Data visualization.\n",
    "   * Examples: Creating line plots, bar charts, scatter plots, and histograms.\n",
    "1. Seaborn:\n",
    "   * Usage: Statistical data visualization with enhanced aesthetics.\n",
    "   * Examples: Visualizing distribution plots, pair plots, and heatmaps."
   ]
  },
  {
   "cell_type": "markdown",
   "id": "722e6ec1",
   "metadata": {},
   "source": [
    "# Data Science Tools\n",
    "<table>\n",
    "    <tr>\n",
    "        <th>Programming Languages\n",
    "        </th>\n",
    "        <th>IDE\n",
    "        </th>\n",
    "        <th>Data Manipulation and Analysis\n",
    "        </th>\n",
    "        <th>Data Visualization \n",
    "        </th>\n",
    "      </tr>\n",
    "    <tr>\n",
    "        <td>Python\n",
    "        </td>\n",
    "        <td>Jupyter Notebook\n",
    "        </td>\n",
    "        <td>Pandas\n",
    "        </td>\n",
    "        <td>MatPlotLib\n",
    "        </td>\n",
    "    </tr>\n",
    "       <tr>\n",
    "        <td>R\n",
    "        </td>\n",
    "        <td>R Studio\n",
    "        </td>\n",
    "        <td>SQL\n",
    "        </td>\n",
    "        <td>Seaborn\n",
    "        </td>\n",
    "     </tr>\n",
    "</table>"
   ]
  },
  {
   "cell_type": "markdown",
   "id": "3899d396",
   "metadata": {},
   "source": [
    "$E=mc^2$"
   ]
  },
  {
   "cell_type": "markdown",
   "id": "ca3e4c3c",
   "metadata": {},
   "source": [
    "$$\n",
    "\\left\\{\n",
    "\\begin{array}{1}\n",
    "c=a+b\\\\\n",
    "d=a-b\\\\\n",
    "\\end{array}\n",
    "\\right.\n",
    "$$"
   ]
  },
  {
   "cell_type": "markdown",
   "id": "0858dd2d",
   "metadata": {},
   "source": [
    "$$\n",
    "\\left\\{\n",
    "\\begin{array}{l}\n",
    "x = 3y + 4z \\\\\n",
    "y = 2x - z \\\\\n",
    "z = x + y\n",
    "\\end{array}\n",
    "\\right.\n",
    "$$"
   ]
  },
  {
   "cell_type": "code",
   "execution_count": 2,
   "id": "1a9198fe",
   "metadata": {},
   "outputs": [
    {
     "name": "stdout",
     "output_type": "stream",
     "text": [
      "Addition of Two numbers is  15\n",
      "Multiplication of Two Numbers is  36\n"
     ]
    }
   ],
   "source": [
    "a=12\n",
    "b=3\n",
    "print(\"Addition of Two numbers is \",a+b)\n",
    "print(\"Multiplication of Two Numbers is \",a*b)"
   ]
  },
  {
   "cell_type": "code",
   "execution_count": 13,
   "id": "5db9230c",
   "metadata": {},
   "outputs": [
    {
     "name": "stdout",
     "output_type": "stream",
     "text": [
      "Enter the Minutes145\n",
      "Hours is 2 and Minutes is 25\n"
     ]
    }
   ],
   "source": [
    "minutes=int(input(\"Enter the Minutes\"))\n",
    "hours=minutes//60\n",
    "minutes=minutes%60\n",
    "print(f\"Hours is {hours} and Minutes is {minutes}\")"
   ]
  },
  {
   "cell_type": "markdown",
   "id": "881de002",
   "metadata": {},
   "source": [
    "# objectives of Mark down cells\n",
    "1. Documentation\n",
    "1. Explanations\n",
    "1. Comment\n",
    "1. Styling\n",
    "1. Mathematical Notations\n",
    "1. Education and Teaching"
   ]
  },
  {
   "cell_type": "markdown",
   "id": "61a8b7ae",
   "metadata": {},
   "source": [
    "# Author's Name is Dr.T.Premalatha"
   ]
  },
  {
   "cell_type": "code",
   "execution_count": null,
   "id": "45559624",
   "metadata": {},
   "outputs": [],
   "source": []
  }
 ],
 "metadata": {
  "kernelspec": {
   "display_name": "Python 3 (ipykernel)",
   "language": "python",
   "name": "python3"
  },
  "language_info": {
   "codemirror_mode": {
    "name": "ipython",
    "version": 3
   },
   "file_extension": ".py",
   "mimetype": "text/x-python",
   "name": "python",
   "nbconvert_exporter": "python",
   "pygments_lexer": "ipython3",
   "version": "3.10.9"
  }
 },
 "nbformat": 4,
 "nbformat_minor": 5
}
